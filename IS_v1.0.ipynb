{
 "cells": [
  {
   "cell_type": "code",
   "execution_count": 5,
   "metadata": {},
   "outputs": [],
   "source": [
    "import numpy as np\n",
    "import os\n",
    "from tqdm import tqdm\n",
    "import csv\n",
    "import ast\n",
    "import antlr4\n",
    "from antlr4 import *\n",
    "from antlr4.tree.Trees import Trees\n",
    "from antlr.JavaLexer import JavaLexer\n",
    "from antlr.JavaParser import JavaParser\n",
    "import javalang"
   ]
  },
  {
   "cell_type": "code",
   "execution_count": 6,
   "metadata": {},
   "outputs": [],
   "source": [
    "class Student():\n",
    "    def __init__(self, ID, score, assignments):\n",
    "        self.ID = ID\n",
    "        self.score = score\n",
    "        self.assignments = assignments\n",
    "\n",
    "class Assignment(): \n",
    "    def __init__(self, ID, problems):\n",
    "        self.ID = ID\n",
    "        self.problems = problems\n",
    "\n",
    "class Problem(): \n",
    "    def __init__(self, ID, codeStates):\n",
    "        self.ID = ID\n",
    "        self.codeStates = codeStates\n",
    "\n",
    "class CodeState():\n",
    "    def __init__(self, ID, code, compileResult, compileMessageType, compileMessageData, score, time):\n",
    "        self.ID = ID\n",
    "        self.code = code\n",
    "        self.compileResult = compileResult\n",
    "        self.compileMessageType = compileMessageType\n",
    "        self.compileMessageData = compileMessageData\n",
    "        self.score = score\n",
    "        self.time = time\n"
   ]
  },
  {
   "cell_type": "code",
   "execution_count": 7,
   "metadata": {},
   "outputs": [],
   "source": [
    "def load_data():\n",
    "\n",
    "    codeStates = {}\n",
    "    with open('./Datasets/CodeStates.csv', mode='r', encoding=\"utf8\") as file:\n",
    "        csv_reader = csv.reader(file)\n",
    "        next(csv_reader)\n",
    "        for line in csv_reader:\n",
    "            codeStates[line[0]] = line[1] \n",
    "            \n",
    "    mainTable = {}\n",
    "    with open('./Datasets/MainTable.csv', mode='r', encoding=\"utf8\") as file:\n",
    "        csv_reader = csv.reader(file)\n",
    "        next(csv_reader)\n",
    "        for line in csv_reader:\n",
    "            # Student\n",
    "            if line[0] not in mainTable:\n",
    "                mainTable[line[0]] = {}\n",
    "            # Assignment\n",
    "            if line[5] not in mainTable[line[0]]:\n",
    "                mainTable[line[0]][line[5]] = {}\n",
    "            # Problem\n",
    "            if line[6] not in mainTable[line[0]][line[5]]:\n",
    "                mainTable[line[0]][line[5]][line[6]] = {}\n",
    "            # CodeState\n",
    "            if line[7] not in mainTable[line[0]][line[5]][line[6]]:\n",
    "                # mainTable[Student][Assignment][Problem][Codestate]\n",
    "                mainTable[line[0]][line[5]][line[6]][line[7]] = {} \n",
    "            mainTable[line[0]][line[5]][line[6]][line[7]]['time'] = line[2]\n",
    "            mainTable[line[0]][line[5]][line[6]][line[7]]['code'] = codeStates[line[7]]\n",
    "            if line[10] != '':\n",
    "                mainTable[line[0]][line[5]][line[6]][line[7]]['score'] = line[10] \n",
    "            if line[11] != '':\n",
    "                mainTable[line[0]][line[5]][line[6]][line[7]]['compileResult'] = line[11]\n",
    "            if line[12] != '':\n",
    "                mainTable[line[0]][line[5]][line[6]][line[7]]['compileMessageType'] = line[12]\n",
    "                mainTable[line[0]][line[5]][line[6]][line[7]]['compileMessageData'] = line[13]\n",
    "    \n",
    "    studentScore = {}\n",
    "    with open('./Datasets/Subject.csv', mode='r', encoding=\"utf8\") as file:\n",
    "        csv_reader = csv.reader(file)\n",
    "        next(csv_reader)\n",
    "        for line in csv_reader:\n",
    "            studentScore[line[0]] = line[1] \n",
    "\n",
    "    studentDataset = []\n",
    "    for student in tqdm(mainTable.keys()):\n",
    "        assignments = []\n",
    "        for assignment in mainTable[student]:\n",
    "            problems = []\n",
    "            for problem in mainTable[student][assignment]:\n",
    "                codeStates = []\n",
    "                for codeState in mainTable[student][assignment][problem]:\n",
    "                    compileMessageType = ''\n",
    "                    compileMessageData = ''\n",
    "                    if 'complieMessageType' in mainTable[student][assignment][problem][codeState]:\n",
    "                        compileMessageType = mainTable[student][assignment][problem][codeState]['compileMessageType']\n",
    "                        compileMessageData = mainTable[student][assignment][problem][codeState]['compileMessageData']\n",
    "                    cS = CodeState(\n",
    "                        codeState, \n",
    "                        mainTable[student][assignment][problem][codeState]['code'],\n",
    "                        mainTable[student][assignment][problem][codeState]['compileResult'],\n",
    "                        compileMessageType,\n",
    "                        compileMessageData,\n",
    "                        mainTable[student][assignment][problem][codeState]['score'],\n",
    "                        mainTable[student][assignment][problem][codeState]['time']\n",
    "                    )\n",
    "                    codeStates.append(cS)\n",
    "                pb = Problem(problem, codeStates)\n",
    "                problems.append(pb)\n",
    "            ass = Assignment(assignment, problems)\n",
    "            assignments.append(ass)\n",
    "        stu = Student(student, studentScore[student], assignments)\n",
    "        studentDataset.append(stu)\n",
    "\n",
    "    return np.array(studentDataset)"
   ]
  },
  {
   "cell_type": "code",
   "execution_count": 8,
   "metadata": {},
   "outputs": [
    {
     "name": "stderr",
     "output_type": "stream",
     "text": [
      "100%|██████████| 506/506 [00:00<00:00, 921.47it/s]\n"
     ]
    }
   ],
   "source": [
    "dataset = load_data()"
   ]
  },
  {
   "cell_type": "code",
   "execution_count": 14,
   "metadata": {},
   "outputs": [
    {
     "ename": "LexerError",
     "evalue": "Could not process token at \"“\", line 7: Return “10:00”",
     "output_type": "error",
     "traceback": [
      "\u001b[1;31m---------------------------------------------------------------------------\u001b[0m",
      "\u001b[1;31mLexerError\u001b[0m                                Traceback (most recent call last)",
      "\u001b[1;32mc:\\Classes\\Student-Performance\\Student-Proformance-Prediction\\IS_v1.0.ipynb Cell 5\u001b[0m in \u001b[0;36m<cell line: 2>\u001b[1;34m()\u001b[0m\n\u001b[0;32m      <a href='vscode-notebook-cell:/c%3A/Classes/Student-Performance/Student-Proformance-Prediction/IS_v1.0.ipynb#W4sZmlsZQ%3D%3D?line=0'>1</a>\u001b[0m tokens \u001b[39m=\u001b[39m javalang\u001b[39m.\u001b[39mtokenizer\u001b[39m.\u001b[39mtokenize(dataset[\u001b[39m0\u001b[39m]\u001b[39m.\u001b[39massignments[\u001b[39m0\u001b[39m]\u001b[39m.\u001b[39mproblems[\u001b[39m5\u001b[39m]\u001b[39m.\u001b[39mcodeStates[\u001b[39m0\u001b[39m]\u001b[39m.\u001b[39mcode)\n\u001b[1;32m----> <a href='vscode-notebook-cell:/c%3A/Classes/Student-Performance/Student-Proformance-Prediction/IS_v1.0.ipynb#W4sZmlsZQ%3D%3D?line=1'>2</a>\u001b[0m parser \u001b[39m=\u001b[39m javalang\u001b[39m.\u001b[39;49mparser\u001b[39m.\u001b[39;49mParser(tokens)\n\u001b[0;32m      <a href='vscode-notebook-cell:/c%3A/Classes/Student-Performance/Student-Proformance-Prediction/IS_v1.0.ipynb#W4sZmlsZQ%3D%3D?line=2'>3</a>\u001b[0m tree \u001b[39m=\u001b[39m parser\u001b[39m.\u001b[39mparse_member_declaration()\n\u001b[0;32m      <a href='vscode-notebook-cell:/c%3A/Classes/Student-Performance/Student-Proformance-Prediction/IS_v1.0.ipynb#W4sZmlsZQ%3D%3D?line=3'>4</a>\u001b[0m \u001b[39mprint\u001b[39m(tree)\n",
      "File \u001b[1;32mc:\\Users\\tony1\\AppData\\Local\\Programs\\Python\\Python39\\lib\\site-packages\\javalang\\parser.py:95\u001b[0m, in \u001b[0;36mParser.__init__\u001b[1;34m(self, tokens)\u001b[0m\n\u001b[0;32m     94\u001b[0m \u001b[39mdef\u001b[39;00m \u001b[39m__init__\u001b[39m(\u001b[39mself\u001b[39m, tokens):\n\u001b[1;32m---> 95\u001b[0m     \u001b[39mself\u001b[39m\u001b[39m.\u001b[39mtokens \u001b[39m=\u001b[39m util\u001b[39m.\u001b[39;49mLookAheadListIterator(tokens)\n\u001b[0;32m     96\u001b[0m     \u001b[39mself\u001b[39m\u001b[39m.\u001b[39mtokens\u001b[39m.\u001b[39mset_default(EndOfInput(\u001b[39mNone\u001b[39;00m))\n\u001b[0;32m     98\u001b[0m     \u001b[39mself\u001b[39m\u001b[39m.\u001b[39mdebug \u001b[39m=\u001b[39m \u001b[39mFalse\u001b[39;00m\n",
      "File \u001b[1;32mc:\\Users\\tony1\\AppData\\Local\\Programs\\Python\\Python39\\lib\\site-packages\\javalang\\util.py:92\u001b[0m, in \u001b[0;36mLookAheadListIterator.__init__\u001b[1;34m(self, iterable)\u001b[0m\n\u001b[0;32m     91\u001b[0m \u001b[39mdef\u001b[39;00m \u001b[39m__init__\u001b[39m(\u001b[39mself\u001b[39m, iterable):\n\u001b[1;32m---> 92\u001b[0m     \u001b[39mself\u001b[39m\u001b[39m.\u001b[39mlist \u001b[39m=\u001b[39m \u001b[39mlist\u001b[39;49m(iterable)\n\u001b[0;32m     94\u001b[0m     \u001b[39mself\u001b[39m\u001b[39m.\u001b[39mmarker \u001b[39m=\u001b[39m \u001b[39m0\u001b[39m\n\u001b[0;32m     95\u001b[0m     \u001b[39mself\u001b[39m\u001b[39m.\u001b[39msaved_markers \u001b[39m=\u001b[39m []\n",
      "File \u001b[1;32mc:\\Users\\tony1\\AppData\\Local\\Programs\\Python\\Python39\\lib\\site-packages\\javalang\\tokenizer.py:547\u001b[0m, in \u001b[0;36mJavaTokenizer.tokenize\u001b[1;34m(self)\u001b[0m\n\u001b[0;32m    544\u001b[0m     token_type \u001b[39m=\u001b[39m Operator\n\u001b[0;32m    546\u001b[0m \u001b[39melse\u001b[39;00m:\n\u001b[1;32m--> 547\u001b[0m     \u001b[39mself\u001b[39;49m\u001b[39m.\u001b[39;49merror(\u001b[39m'\u001b[39;49m\u001b[39mCould not process token\u001b[39;49m\u001b[39m'\u001b[39;49m, c)\n\u001b[0;32m    548\u001b[0m     \u001b[39mself\u001b[39m\u001b[39m.\u001b[39mi \u001b[39m=\u001b[39m \u001b[39mself\u001b[39m\u001b[39m.\u001b[39mi \u001b[39m+\u001b[39m \u001b[39m1\u001b[39m\n\u001b[0;32m    549\u001b[0m     \u001b[39mcontinue\u001b[39;00m\n",
      "File \u001b[1;32mc:\\Users\\tony1\\AppData\\Local\\Programs\\Python\\Python39\\lib\\site-packages\\javalang\\tokenizer.py:576\u001b[0m, in \u001b[0;36mJavaTokenizer.error\u001b[1;34m(self, message, char)\u001b[0m\n\u001b[0;32m    573\u001b[0m \u001b[39mself\u001b[39m\u001b[39m.\u001b[39merrors\u001b[39m.\u001b[39mappend(error)\n\u001b[0;32m    575\u001b[0m \u001b[39mif\u001b[39;00m \u001b[39mnot\u001b[39;00m \u001b[39mself\u001b[39m\u001b[39m.\u001b[39mignore_errors:\n\u001b[1;32m--> 576\u001b[0m     \u001b[39mraise\u001b[39;00m error\n",
      "\u001b[1;31mLexerError\u001b[0m: Could not process token at \"“\", line 7: Return “10:00”"
     ]
    }
   ],
   "source": [
    "tokens = javalang.tokenizer.tokenize(dataset[0].assignments[0].problems[5].codeStates[0].code)\n",
    "parser = javalang.parser.Parser(tokens)\n",
    "tree = parser.parse_member_declaration()\n",
    "print(tree)"
   ]
  }
 ],
 "metadata": {
  "kernelspec": {
   "display_name": "Python 3.9.7 64-bit",
   "language": "python",
   "name": "python3"
  },
  "language_info": {
   "codemirror_mode": {
    "name": "ipython",
    "version": 3
   },
   "file_extension": ".py",
   "mimetype": "text/x-python",
   "name": "python",
   "nbconvert_exporter": "python",
   "pygments_lexer": "ipython3",
   "version": "3.9.7"
  },
  "orig_nbformat": 4,
  "vscode": {
   "interpreter": {
    "hash": "fa1a126a94401a4977859e9e4f2dd1ff8e21842bb8cd4023f8890c2d3f59c249"
   }
  }
 },
 "nbformat": 4,
 "nbformat_minor": 2
}
