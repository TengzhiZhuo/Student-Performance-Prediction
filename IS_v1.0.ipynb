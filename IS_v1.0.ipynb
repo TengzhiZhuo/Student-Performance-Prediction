{
 "cells": [
  {
   "cell_type": "code",
   "execution_count": 2,
   "metadata": {},
   "outputs": [],
   "source": [
    "import numpy as np\n",
    "import os\n",
    "from tqdm import tqdm\n",
    "import csv\n",
    "import javalang"
   ]
  },
  {
   "cell_type": "code",
   "execution_count": 3,
   "metadata": {},
   "outputs": [],
   "source": [
    "class Student():\n",
    "    def __init__(self, ID, score, assignments):\n",
    "        self.ID = ID\n",
    "        self.score = score\n",
    "        self.assignments = assignments\n",
    "\n",
    "class Assignment(): \n",
    "    def __init__(self, ID, problems):\n",
    "        self.ID = ID\n",
    "        self.problems = problems\n",
    "\n",
    "class Problem(): \n",
    "    def __init__(self, ID, codeStates):\n",
    "        self.ID = ID\n",
    "        self.codeStates = codeStates\n",
    "\n",
    "class CodeState():\n",
    "    def __init__(self, ID, code, compileResult, compileMessageType, compileMessageData, score, time):\n",
    "        self.ID = ID\n",
    "        self.code = code\n",
    "        self.compileResult = compileResult\n",
    "        self.compileMessageType = compileMessageType\n",
    "        self.compileMessageData = compileMessageData\n",
    "        self.score = score\n",
    "        self.time = time\n"
   ]
  },
  {
   "cell_type": "code",
   "execution_count": 4,
   "metadata": {},
   "outputs": [],
   "source": [
    "def load_data():\n",
    "\n",
    "    codeStates = {}\n",
    "    with open('./Datasets/CodeStates.csv', mode='r', encoding=\"utf8\") as file:\n",
    "        csv_reader = csv.reader(file)\n",
    "        next(csv_reader)\n",
    "        for line in csv_reader:\n",
    "            codeStates[line[0]] = line[1] \n",
    "            \n",
    "    mainTable = {}\n",
    "    with open('./Datasets/MainTable.csv', mode='r', encoding=\"utf8\") as file:\n",
    "        csv_reader = csv.reader(file)\n",
    "        next(csv_reader)\n",
    "        for line in csv_reader:\n",
    "            # Student\n",
    "            if line[0] not in mainTable:\n",
    "                mainTable[line[0]] = {}\n",
    "            # Assignment\n",
    "            if line[5] not in mainTable[line[0]]:\n",
    "                mainTable[line[0]][line[5]] = {}\n",
    "            # Problem\n",
    "            if line[6] not in mainTable[line[0]][line[5]]:\n",
    "                mainTable[line[0]][line[5]][line[6]] = {}\n",
    "            # CodeState\n",
    "            if line[7] not in mainTable[line[0]][line[5]][line[6]]:\n",
    "                # mainTable[Student][Assignment][Problem][Codestate]\n",
    "                mainTable[line[0]][line[5]][line[6]][line[7]] = {} \n",
    "            mainTable[line[0]][line[5]][line[6]][line[7]]['time'] = line[2]\n",
    "            mainTable[line[0]][line[5]][line[6]][line[7]]['code'] = codeStates[line[7]]\n",
    "            if line[10] != '':\n",
    "                mainTable[line[0]][line[5]][line[6]][line[7]]['score'] = line[10] \n",
    "            if line[11] != '':\n",
    "                mainTable[line[0]][line[5]][line[6]][line[7]]['compileResult'] = line[11]\n",
    "            if line[12] != '':\n",
    "                mainTable[line[0]][line[5]][line[6]][line[7]]['compileMessageType'] = line[12]\n",
    "                mainTable[line[0]][line[5]][line[6]][line[7]]['compileMessageData'] = line[13]\n",
    "    \n",
    "    studentScore = {}\n",
    "    with open('./Datasets/Subject.csv', mode='r', encoding=\"utf8\") as file:\n",
    "        csv_reader = csv.reader(file)\n",
    "        next(csv_reader)\n",
    "        for line in csv_reader:\n",
    "            studentScore[line[0]] = line[1] \n",
    "\n",
    "    studentDataset = []\n",
    "    for student in tqdm(mainTable.keys()):\n",
    "        assignments = []\n",
    "        for assignment in mainTable[student]:\n",
    "            problems = []\n",
    "            for problem in mainTable[student][assignment]:\n",
    "                codeStates = []\n",
    "                for codeState in mainTable[student][assignment][problem]:\n",
    "                    compileMessageType = ''\n",
    "                    compileMessageData = ''\n",
    "                    if 'complieMessageType' in mainTable[student][assignment][problem][codeState]:\n",
    "                        compileMessageType = mainTable[student][assignment][problem][codeState]['compileMessageType']\n",
    "                        compileMessageData = mainTable[student][assignment][problem][codeState]['compileMessageData']\n",
    "                    cS = CodeState(\n",
    "                        codeState, \n",
    "                        mainTable[student][assignment][problem][codeState]['code'],\n",
    "                        mainTable[student][assignment][problem][codeState]['compileResult'],\n",
    "                        compileMessageType,\n",
    "                        compileMessageData,\n",
    "                        mainTable[student][assignment][problem][codeState]['score'],\n",
    "                        mainTable[student][assignment][problem][codeState]['time']\n",
    "                    )\n",
    "                    codeStates.append(cS)\n",
    "                pb = Problem(problem, codeStates)\n",
    "                problems.append(pb)\n",
    "            ass = Assignment(assignment, problems)\n",
    "            assignments.append(ass)\n",
    "        stu = Student(student, studentScore[student], assignments)\n",
    "        studentDataset.append(stu)\n",
    "\n",
    "    return np.array(studentDataset)"
   ]
  },
  {
   "cell_type": "code",
   "execution_count": 5,
   "metadata": {},
   "outputs": [
    {
     "name": "stderr",
     "output_type": "stream",
     "text": [
      "100%|██████████| 506/506 [00:00<00:00, 919.17it/s] \n"
     ]
    }
   ],
   "source": [
    "dataset = load_data()"
   ]
  },
  {
   "cell_type": "code",
   "execution_count": 12,
   "metadata": {},
   "outputs": [
    {
     "name": "stdout",
     "output_type": "stream",
     "text": [
      "MethodDeclaration(annotations=[], body=[IfStatement(condition=BinaryOperation(operandl=BinaryOperation(operandl=BinaryOperation(operandl=MemberReference(member=a, postfix_operators=[], prefix_operators=[], qualifier=, selectors=[]), operandr=MemberReference(member=b, postfix_operators=[], prefix_operators=[], qualifier=, selectors=[]), operator=+), operandr=Literal(postfix_operators=[], prefix_operators=[], qualifier=None, selectors=[], value=10), operator=>=), operandr=BinaryOperation(operandl=BinaryOperation(operandl=MemberReference(member=a, postfix_operators=[], prefix_operators=[], qualifier=, selectors=[]), operandr=MemberReference(member=b, postfix_operators=[], prefix_operators=[], qualifier=, selectors=[]), operator=+), operandr=Literal(postfix_operators=[], prefix_operators=[], qualifier=None, selectors=[], value=19), operator=<=), operator=&&), else_statement=BlockStatement(label=None, statements=[ReturnStatement(expression=BinaryOperation(operandl=MemberReference(member=a, postfix_operators=[], prefix_operators=[], qualifier=, selectors=[]), operandr=MemberReference(member=b, postfix_operators=[], prefix_operators=[], qualifier=, selectors=[]), operator=+), label=None)]), label=None, then_statement=BlockStatement(label=None, statements=[ReturnStatement(expression=Literal(postfix_operators=[], prefix_operators=[], qualifier=None, selectors=[], value=20), label=None)]))], documentation=None, modifiers={'public'}, name=sortaSum, parameters=[FormalParameter(annotations=[], modifiers=set(), name=a, type=BasicType(dimensions=[], name=int), varargs=False), FormalParameter(annotations=[], modifiers=set(), name=b, type=BasicType(dimensions=[], name=int), varargs=False)], return_type=BasicType(dimensions=[], name=int), throws=None, type_parameters=None)\n"
     ]
    }
   ],
   "source": [
    "tokens = javalang.tokenizer.tokenize(dataset[0].assignments[0].problems[0].codeStates[0].code)\n",
    "parser = javalang.parser.Parser(tokens)\n",
    "tree = parser.parse_member_declaration()\n",
    "print(tree)"
   ]
  }
 ],
 "metadata": {
  "kernelspec": {
   "display_name": "Python 3.9.7 64-bit",
   "language": "python",
   "name": "python3"
  },
  "language_info": {
   "codemirror_mode": {
    "name": "ipython",
    "version": 3
   },
   "file_extension": ".py",
   "mimetype": "text/x-python",
   "name": "python",
   "nbconvert_exporter": "python",
   "pygments_lexer": "ipython3",
   "version": "3.9.7 (tags/v3.9.7:1016ef3, Aug 30 2021, 20:19:38) [MSC v.1929 64 bit (AMD64)]"
  },
  "orig_nbformat": 4,
  "vscode": {
   "interpreter": {
    "hash": "3d07a280d1a861fef4a0230f973a5ac9122df67ba2a5011d1219944ba280abef"
   }
  }
 },
 "nbformat": 4,
 "nbformat_minor": 2
}
