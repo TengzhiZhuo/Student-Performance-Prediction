{
 "cells": [
  {
   "cell_type": "code",
   "execution_count": 2,
   "metadata": {},
   "outputs": [],
   "source": [
    "import numpy as np\n",
    "import os\n",
    "from tqdm import tqdm\n",
    "import csv\n",
    "import ast\n",
    "import antlr4\n",
    "from antlr4 import *\n",
    "from antlr4.tree.Trees import Trees\n",
    "from antlr.JavaLexer import JavaLexer\n",
    "from antlr.JavaParser import JavaParser"
   ]
  },
  {
   "cell_type": "markdown",
   "metadata": {},
   "source": [
    "Create Classes for Attributes"
   ]
  },
  {
   "cell_type": "code",
   "execution_count": 3,
   "metadata": {},
   "outputs": [],
   "source": [
    "class Student():\n",
    "    def __init__(self, ID, score, assignments):\n",
    "        self.ID = ID\n",
    "        self.score = score\n",
    "        self.assignments = assignments\n",
    "\n",
    "class Assignment(): \n",
    "    def __init__(self, ID, problems):\n",
    "        self.ID = ID\n",
    "        self.problems = problems\n",
    "\n",
    "class Problem(): \n",
    "    def __init__(self, ID, codeStates):\n",
    "        self.ID = ID\n",
    "        self.codeStates = codeStates\n",
    "\n",
    "class CodeState():\n",
    "    def __init__(self, ID, code, compileResult, compileMessageType, compileMessageData, score, time):\n",
    "        self.ID = ID\n",
    "        self.code = code\n",
    "        self.compileResult = compileResult\n",
    "        self.compileMessageType = compileMessageType\n",
    "        self.compileMessageData = compileMessageData\n",
    "        self.score = score\n",
    "        self.time = time\n"
   ]
  },
  {
   "cell_type": "markdown",
   "metadata": {},
   "source": [
    "Import Datasets"
   ]
  },
  {
   "cell_type": "code",
   "execution_count": 4,
   "metadata": {},
   "outputs": [],
   "source": [
    "def load_data():\n",
    "\n",
    "    codeStates = {}\n",
    "    with open('./Datasets/CodeStates.csv', mode='r', encoding=\"utf8\") as file:\n",
    "        csv_reader = csv.reader(file)\n",
    "        next(csv_reader)\n",
    "        for line in csv_reader:\n",
    "            codeStates[line[0]] = line[1] \n",
    "            \n",
    "    mainTable = {}\n",
    "    with open('./Datasets/MainTable.csv', mode='r', encoding=\"utf8\") as file:\n",
    "        csv_reader = csv.reader(file)\n",
    "        next(csv_reader)\n",
    "        for line in csv_reader:\n",
    "            # Student\n",
    "            if line[0] not in mainTable:\n",
    "                mainTable[line[0]] = {}\n",
    "            # Assignment\n",
    "            if line[5] not in mainTable[line[0]]:\n",
    "                mainTable[line[0]][line[5]] = {}\n",
    "            # Problem\n",
    "            if line[6] not in mainTable[line[0]][line[5]]:\n",
    "                mainTable[line[0]][line[5]][line[6]] = {}\n",
    "            # CodeState\n",
    "            if line[7] not in mainTable[line[0]][line[5]][line[6]]:\n",
    "                # mainTable[Student][Assignment][Problem][Codestate]\n",
    "                mainTable[line[0]][line[5]][line[6]][line[7]] = {} \n",
    "            mainTable[line[0]][line[5]][line[6]][line[7]]['time'] = line[2]\n",
    "            mainTable[line[0]][line[5]][line[6]][line[7]]['code'] = codeStates[line[7]]\n",
    "            if line[10] != '':\n",
    "                mainTable[line[0]][line[5]][line[6]][line[7]]['score'] = line[10] \n",
    "            if line[11] != '':\n",
    "                mainTable[line[0]][line[5]][line[6]][line[7]]['compileResult'] = line[11]\n",
    "            if line[12] != '':\n",
    "                mainTable[line[0]][line[5]][line[6]][line[7]]['compileMessageType'] = line[12]\n",
    "                mainTable[line[0]][line[5]][line[6]][line[7]]['compileMessageData'] = line[13]\n",
    "    \n",
    "    studentScore = {}\n",
    "    with open('./Datasets/Subject.csv', mode='r', encoding=\"utf8\") as file:\n",
    "        csv_reader = csv.reader(file)\n",
    "        next(csv_reader)\n",
    "        for line in csv_reader:\n",
    "            studentScore[line[0]] = line[1] \n",
    "\n",
    "    studentDataset = []\n",
    "    for student in tqdm(mainTable.keys()):\n",
    "        assignments = []\n",
    "        for assignment in mainTable[student]:\n",
    "            problems = []\n",
    "            for problem in mainTable[student][assignment]:\n",
    "                codeStates = []\n",
    "                for codeState in mainTable[student][assignment][problem]:\n",
    "                    compileMessageType = ''\n",
    "                    compileMessageData = ''\n",
    "                    if 'complieMessageType' in mainTable[student][assignment][problem][codeState]:\n",
    "                        compileMessageType = mainTable[student][assignment][problem][codeState]['compileMessageType']\n",
    "                        compileMessageData = mainTable[student][assignment][problem][codeState]['compileMessageData']\n",
    "                    cS = CodeState(\n",
    "                        codeState, \n",
    "                        mainTable[student][assignment][problem][codeState]['code'],\n",
    "                        mainTable[student][assignment][problem][codeState]['compileResult'],\n",
    "                        compileMessageType,\n",
    "                        compileMessageData,\n",
    "                        mainTable[student][assignment][problem][codeState]['score'],\n",
    "                        mainTable[student][assignment][problem][codeState]['time']\n",
    "                    )\n",
    "                    codeStates.append(cS)\n",
    "                pb = Problem(problem, codeStates)\n",
    "                problems.append(pb)\n",
    "            ass = Assignment(assignment, problems)\n",
    "            assignments.append(ass)\n",
    "        stu = Student(student, studentScore[student], assignments)\n",
    "        studentDataset.append(stu)\n",
    "\n",
    "    return np.array(studentDataset)\n",
    "\n",
    "    \n",
    "\n"
   ]
  },
  {
   "cell_type": "code",
   "execution_count": 5,
   "metadata": {},
   "outputs": [
    {
     "name": "stderr",
     "output_type": "stream",
     "text": [
      "100%|██████████| 506/506 [00:00<00:00, 984.22it/s]\n"
     ]
    }
   ],
   "source": [
    "dataset = load_data()"
   ]
  },
  {
   "cell_type": "code",
   "execution_count": 9,
   "metadata": {},
   "outputs": [
    {
     "name": "stdout",
     "output_type": "stream",
     "text": [
      "public int sortaSum(int a, int b)\n",
      "{\n",
      "    if (a + b >= 10 && a + b <= 19)\n",
      "    {\n",
      "     return 20;   \n",
      "    }\n",
      "    else\n",
      "    {\n",
      "     return a + b;   \n",
      "    }\n",
      "}\n",
      "\n",
      "0.0\n",
      "Error\n"
     ]
    }
   ],
   "source": [
    "print(dataset[0].assignments[0].problems[0].codeStates[0].code)\n",
    "print(dataset[0].assignments[0].problems[5].codeStates[0].score)\n",
    "print(dataset[0].assignments[0].problems[5].codeStates[0].compileResult)"
   ]
  },
  {
   "cell_type": "code",
   "execution_count": null,
   "metadata": {},
   "outputs": [],
   "source": [
    "    "
   ]
  },
  {
   "cell_type": "markdown",
   "metadata": {},
   "source": [
    "In each layer, [AST, score, other factors]. We need to concat AST + score + factors. The impact of score and factor maybe small because AST is higher dem.\n",
    "1) use final state to predict the final \n",
    "2) use attension \n",
    "3) Pre train, predict next score between 0 and 1 "
   ]
  },
  {
   "cell_type": "code",
   "execution_count": 10,
   "metadata": {},
   "outputs": [
    {
     "name": "stdout",
     "output_type": "stream",
     "text": [
      "(compilationUnit (typeDeclaration (classOrInterfaceModifier public) int (classOrInterfaceModifier (annotation (altAnnotationQualifiedName (identifier sortaSum)) ( (elementValue (expression int)) <missing ')'>)) (classOrInterfaceModifier (annotation (altAnnotationQualifiedName (identifier a) , int))) (classOrInterfaceModifier (annotation (altAnnotationQualifiedName (identifier b) ) { if) ( (elementValue (expression (expression (expression (expression (primary (identifier a))) + (expression (primary (identifier b)))) >= (expression (primary (literal (integerLiteral 10))))) && (expression (expression (expression (primary (identifier a))) + (expression (primary (identifier b)))) <= (expression (primary (literal (integerLiteral 19))))))) ))) { return 20) (typeDeclaration ;))\n"
     ]
    },
    {
     "name": "stderr",
     "output_type": "stream",
     "text": [
      "line 1:7 extraneous input 'int' expecting {'abstract', 'class', 'enum', 'final', 'interface', 'private', 'protected', 'public', 'static', 'strictfp', 'module', 'open', 'requires', 'exports', 'opens', 'to', 'uses', 'provides', 'with', 'transitive', 'var', 'yield', 'record', 'sealed', 'permits', 'non-sealed', '@', IDENTIFIER}\n",
      "line 1:19 mismatched input '(' expecting '.'\n",
      "line 1:25 no viable alternative at input 'int a,'\n",
      "line 1:25 mismatched input ',' expecting '.'\n",
      "line 1:32 mismatched input ')' expecting '.'\n",
      "line 4:4 extraneous input '{' expecting {'abstract', 'class', 'enum', 'final', 'interface', 'private', 'protected', 'public', 'static', 'strictfp', 'module', 'open', 'requires', 'exports', 'opens', 'to', 'uses', 'provides', 'with', 'transitive', 'var', 'yield', 'record', 'sealed', 'permits', 'non-sealed', ';', '@', IDENTIFIER}\n"
     ]
    }
   ],
   "source": [
    "code = dataset[0].assignments[0].problems[0].codeStates[0].code\n",
    "lexer = JavaLexer(antlr4.InputStream(code))\n",
    "stream = antlr4.CommonTokenStream(lexer)\n",
    "parser = JavaParser(stream)\n",
    "tree = parser.compilationUnit()\n",
    "elements = tree.toStringTree(recog=parser)\n",
    "print(Trees.toStringTree(tree, None, parser))"
   ]
  },
  {
   "cell_type": "markdown",
   "metadata": {},
   "source": [
    "https://github.com/thdiaman/ASTExtractor"
   ]
  }
 ],
 "metadata": {
  "kernelspec": {
   "display_name": "Python 3.9.7 64-bit",
   "language": "python",
   "name": "python3"
  },
  "language_info": {
   "codemirror_mode": {
    "name": "ipython",
    "version": 3
   },
   "file_extension": ".py",
   "mimetype": "text/x-python",
   "name": "python",
   "nbconvert_exporter": "python",
   "pygments_lexer": "ipython3",
   "version": "3.9.7"
  },
  "orig_nbformat": 4,
  "vscode": {
   "interpreter": {
    "hash": "fa1a126a94401a4977859e9e4f2dd1ff8e21842bb8cd4023f8890c2d3f59c249"
   }
  }
 },
 "nbformat": 4,
 "nbformat_minor": 2
}
