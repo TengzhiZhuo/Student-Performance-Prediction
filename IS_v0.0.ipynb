{
 "cells": [
  {
   "cell_type": "code",
   "execution_count": 1,
   "metadata": {},
   "outputs": [],
   "source": [
    "import numpy as np\n",
    "import os\n",
    "from tqdm import tqdm\n",
    "import csv"
   ]
  },
  {
   "cell_type": "markdown",
   "metadata": {},
   "source": [
    "Create Classes for attributes"
   ]
  },
  {
   "cell_type": "code",
   "execution_count": 4,
   "metadata": {},
   "outputs": [],
   "source": [
    "class student:\n",
    "    def __init__(self, ID, score, assignments):\n",
    "        self.ID = ID\n",
    "        self.score = score\n",
    "        self.assignments = assignments\n",
    "\n",
    "class assignment: \n",
    "    def __init__(self, ID, problems):\n",
    "        self.ID = ID\n",
    "        self.problems = problems\n",
    "\n",
    "class problem: \n",
    "    def __init__(self, ID, codeStates):\n",
    "        self.ID = ID\n",
    "        self.codeStates = codeStates\n",
    "\n",
    "class codeState:\n",
    "    def _init_(self, ID, code, compileResult, compileMessageType, compileMessageData, score, time):\n",
    "        self.ID = ID\n",
    "        self.code = code\n",
    "        self.compileResult = compileResult\n",
    "        self.compileMessageType = compileMessageType\n",
    "        self.compileMessageData = compileMessageData\n",
    "        self.score = score\n",
    "        self.time = time\n"
   ]
  },
  {
   "cell_type": "markdown",
   "metadata": {},
   "source": [
    "Import Datasets"
   ]
  },
  {
   "cell_type": "code",
   "execution_count": 3,
   "metadata": {},
   "outputs": [],
   "source": [
    "def load_dataSet():\n",
    "\n",
    "    codeStates = {}\n",
    "    mainTable = {}\n",
    "\n",
    "    directory = os.listdir('./Datasets/')\n",
    "\n",
    "    for fileName in tqdm(directory):\n",
    "        with open('./Datasets/'+fileName, mode='r', encoding=\"utf8\") as file:\n",
    "            csv_reader = csv.reader(file)\n",
    "            next(csv_reader)\n",
    "            if fileName == 'CodeStates.csv':\n",
    "                for line in tqdm(csv_reader, desc=\"File: \"+fileName):\n",
    "                    codeStates[line[0]] = line[1] \n",
    "            elif fileName == 'MainTable.csv':\n",
    "                for line in tqdm(csv_reader, desc=\"File: \"+fileName):\n",
    "                    if line[0] not in mainTable:\n",
    "                        mainTable[line[0]] = {}\n",
    "                    if line[5] not in mainTable[line[0]]:\n",
    "                        \n",
    "            # else:\n",
    "\n"
   ]
  },
  {
   "cell_type": "code",
   "execution_count": 42,
   "metadata": {},
   "outputs": [
    {
     "name": "stderr",
     "output_type": "stream",
     "text": [
      "File: CodeStates.csv: 125578it [00:00, 158123.05it/s]\n",
      "100%|██████████| 3/3 [00:00<00:00,  3.76it/s]\n"
     ]
    }
   ],
   "source": [
    "load_dataSet()"
   ]
  }
 ],
 "metadata": {
  "kernelspec": {
   "display_name": "Python 3.9.13 64-bit (microsoft store)",
   "language": "python",
   "name": "python3"
  },
  "language_info": {
   "codemirror_mode": {
    "name": "ipython",
    "version": 3
   },
   "file_extension": ".py",
   "mimetype": "text/x-python",
   "name": "python",
   "nbconvert_exporter": "python",
   "pygments_lexer": "ipython3",
   "version": "3.9.13"
  },
  "orig_nbformat": 4,
  "vscode": {
   "interpreter": {
    "hash": "e96c9de0839ff6bf32d8f08b422fc7f200c991bc9f7ca2cb23aa1de27e65a23a"
   }
  }
 },
 "nbformat": 4,
 "nbformat_minor": 2
}
